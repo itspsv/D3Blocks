{
 "cells": [
  {
   "cell_type": "code",
   "execution_count": 1,
   "id": "b7a607c2",
   "metadata": {},
   "outputs": [
    {
     "name": "stdout",
     "output_type": "stream",
     "text": [
      "Requirement already satisfied: d3blocks in /opt/anaconda3/lib/python3.11/site-packages (1.4.11)\n",
      "Requirement already satisfied: numpy in /opt/anaconda3/lib/python3.11/site-packages (from d3blocks) (1.26.4)\n",
      "Requirement already satisfied: colourmap>=1.1.10 in /opt/anaconda3/lib/python3.11/site-packages (from d3blocks) (1.1.17)\n",
      "Requirement already satisfied: datazets>=0.1.7 in /opt/anaconda3/lib/python3.11/site-packages (from d3blocks) (0.1.9)\n",
      "Requirement already satisfied: d3graph>=2.4.16 in /opt/anaconda3/lib/python3.11/site-packages (from d3blocks) (2.5.0)\n",
      "Requirement already satisfied: elasticgraph>=0.1.2 in /opt/anaconda3/lib/python3.11/site-packages (from d3blocks) (0.2.0)\n",
      "Requirement already satisfied: ismember>=1.0.1 in /opt/anaconda3/lib/python3.11/site-packages (from d3blocks) (1.0.5)\n",
      "Requirement already satisfied: pandas in /opt/anaconda3/lib/python3.11/site-packages (from d3blocks) (2.1.4)\n",
      "Requirement already satisfied: tqdm in /opt/anaconda3/lib/python3.11/site-packages (from d3blocks) (4.65.0)\n",
      "Requirement already satisfied: requests in /opt/anaconda3/lib/python3.11/site-packages (from d3blocks) (2.31.0)\n",
      "Requirement already satisfied: scikit-learn in /opt/anaconda3/lib/python3.11/site-packages (from d3blocks) (1.2.2)\n",
      "Requirement already satisfied: jinja2 in /opt/anaconda3/lib/python3.11/site-packages (from d3blocks) (3.1.3)\n",
      "Requirement already satisfied: matplotlib in /opt/anaconda3/lib/python3.11/site-packages (from colourmap>=1.1.10->d3blocks) (3.8.0)\n",
      "Requirement already satisfied: networkx>2 in /opt/anaconda3/lib/python3.11/site-packages (from d3graph>=2.4.16->d3blocks) (3.1)\n",
      "Requirement already satisfied: packaging in /opt/anaconda3/lib/python3.11/site-packages (from d3graph>=2.4.16->d3blocks) (23.1)\n",
      "Requirement already satisfied: markupsafe==2.0.1 in /opt/anaconda3/lib/python3.11/site-packages (from d3graph>=2.4.16->d3blocks) (2.0.1)\n",
      "Requirement already satisfied: python-louvain in /opt/anaconda3/lib/python3.11/site-packages (from d3graph>=2.4.16->d3blocks) (0.16)\n",
      "Requirement already satisfied: python-dateutil>=2.8.2 in /opt/anaconda3/lib/python3.11/site-packages (from pandas->d3blocks) (2.8.2)\n",
      "Requirement already satisfied: pytz>=2020.1 in /opt/anaconda3/lib/python3.11/site-packages (from pandas->d3blocks) (2023.3.post1)\n",
      "Requirement already satisfied: tzdata>=2022.1 in /opt/anaconda3/lib/python3.11/site-packages (from pandas->d3blocks) (2023.3)\n",
      "Requirement already satisfied: charset-normalizer<4,>=2 in /opt/anaconda3/lib/python3.11/site-packages (from requests->d3blocks) (2.0.4)\n",
      "Requirement already satisfied: idna<4,>=2.5 in /opt/anaconda3/lib/python3.11/site-packages (from requests->d3blocks) (3.4)\n",
      "Requirement already satisfied: urllib3<3,>=1.21.1 in /opt/anaconda3/lib/python3.11/site-packages (from requests->d3blocks) (2.0.7)\n",
      "Requirement already satisfied: certifi>=2017.4.17 in /opt/anaconda3/lib/python3.11/site-packages (from requests->d3blocks) (2024.7.4)\n",
      "Requirement already satisfied: scipy>=1.3.2 in /opt/anaconda3/lib/python3.11/site-packages (from scikit-learn->d3blocks) (1.11.4)\n",
      "Requirement already satisfied: joblib>=1.1.1 in /opt/anaconda3/lib/python3.11/site-packages (from scikit-learn->d3blocks) (1.2.0)\n",
      "Requirement already satisfied: threadpoolctl>=2.0.0 in /opt/anaconda3/lib/python3.11/site-packages (from scikit-learn->d3blocks) (2.2.0)\n",
      "Requirement already satisfied: six>=1.5 in /opt/anaconda3/lib/python3.11/site-packages (from python-dateutil>=2.8.2->pandas->d3blocks) (1.16.0)\n",
      "Requirement already satisfied: contourpy>=1.0.1 in /opt/anaconda3/lib/python3.11/site-packages (from matplotlib->colourmap>=1.1.10->d3blocks) (1.2.0)\n",
      "Requirement already satisfied: cycler>=0.10 in /opt/anaconda3/lib/python3.11/site-packages (from matplotlib->colourmap>=1.1.10->d3blocks) (0.11.0)\n",
      "Requirement already satisfied: fonttools>=4.22.0 in /opt/anaconda3/lib/python3.11/site-packages (from matplotlib->colourmap>=1.1.10->d3blocks) (4.25.0)\n",
      "Requirement already satisfied: kiwisolver>=1.0.1 in /opt/anaconda3/lib/python3.11/site-packages (from matplotlib->colourmap>=1.1.10->d3blocks) (1.4.4)\n",
      "Requirement already satisfied: pillow>=6.2.0 in /opt/anaconda3/lib/python3.11/site-packages (from matplotlib->colourmap>=1.1.10->d3blocks) (10.2.0)\n",
      "Requirement already satisfied: pyparsing>=2.3.1 in /opt/anaconda3/lib/python3.11/site-packages (from matplotlib->colourmap>=1.1.10->d3blocks) (3.0.9)\n",
      "Note: you may need to restart the kernel to use updated packages.\n"
     ]
    }
   ],
   "source": [
    "pip install d3blocks"
   ]
  },
  {
   "cell_type": "code",
   "execution_count": 2,
   "id": "538a03a0",
   "metadata": {},
   "outputs": [],
   "source": [
    "import pandas as pd\n",
    "import numpy as np\n",
    "from d3blocks import D3Blocks\n",
    "\n",
    "# Load the datasets\n",
    "data = pd.read_csv('/Users/pranav/Desktop/Python/D3 Blocks/Sample_data_moving_bubbles.csv')"
   ]
  },
  {
   "cell_type": "code",
   "execution_count": 3,
   "id": "db69d2d5",
   "metadata": {},
   "outputs": [
    {
     "data": {
      "text/html": [
       "<div>\n",
       "<style scoped>\n",
       "    .dataframe tbody tr th:only-of-type {\n",
       "        vertical-align: middle;\n",
       "    }\n",
       "\n",
       "    .dataframe tbody tr th {\n",
       "        vertical-align: top;\n",
       "    }\n",
       "\n",
       "    .dataframe thead th {\n",
       "        text-align: right;\n",
       "    }\n",
       "</style>\n",
       "<table border=\"1\" class=\"dataframe\">\n",
       "  <thead>\n",
       "    <tr style=\"text-align: right;\">\n",
       "      <th></th>\n",
       "      <th>datetime</th>\n",
       "      <th>sample_id</th>\n",
       "      <th>state</th>\n",
       "    </tr>\n",
       "  </thead>\n",
       "  <tbody>\n",
       "    <tr>\n",
       "      <th>0</th>\n",
       "      <td>03-01-2020 13:58:57</td>\n",
       "      <td>21</td>\n",
       "      <td>Sleeping</td>\n",
       "    </tr>\n",
       "    <tr>\n",
       "      <th>1</th>\n",
       "      <td>04-01-2020 17:35:28</td>\n",
       "      <td>218</td>\n",
       "      <td>Sleeping</td>\n",
       "    </tr>\n",
       "    <tr>\n",
       "      <th>2</th>\n",
       "      <td>04-01-2020 23:42:40</td>\n",
       "      <td>285</td>\n",
       "      <td>Sleeping</td>\n",
       "    </tr>\n",
       "    <tr>\n",
       "      <th>3</th>\n",
       "      <td>05-01-2020 20:33:08</td>\n",
       "      <td>251</td>\n",
       "      <td>Sleeping</td>\n",
       "    </tr>\n",
       "    <tr>\n",
       "      <th>4</th>\n",
       "      <td>06-01-2020 22:45:55</td>\n",
       "      <td>215</td>\n",
       "      <td>Sleeping</td>\n",
       "    </tr>\n",
       "    <tr>\n",
       "      <th>...</th>\n",
       "      <td>...</td>\n",
       "      <td>...</td>\n",
       "      <td>...</td>\n",
       "    </tr>\n",
       "    <tr>\n",
       "      <th>994</th>\n",
       "      <td>31-12-2021 21:28:33</td>\n",
       "      <td>120</td>\n",
       "      <td>Travel</td>\n",
       "    </tr>\n",
       "    <tr>\n",
       "      <th>995</th>\n",
       "      <td>31-12-2021 21:29:09</td>\n",
       "      <td>120</td>\n",
       "      <td>Sleeping</td>\n",
       "    </tr>\n",
       "    <tr>\n",
       "      <th>996</th>\n",
       "      <td>31-12-2021 22:04:39</td>\n",
       "      <td>198</td>\n",
       "      <td>Sleeping</td>\n",
       "    </tr>\n",
       "    <tr>\n",
       "      <th>997</th>\n",
       "      <td>31-12-2021 22:39:31</td>\n",
       "      <td>20</td>\n",
       "      <td>Work</td>\n",
       "    </tr>\n",
       "    <tr>\n",
       "      <th>998</th>\n",
       "      <td>31-12-2021 23:50:11</td>\n",
       "      <td>107</td>\n",
       "      <td>Sleeping</td>\n",
       "    </tr>\n",
       "  </tbody>\n",
       "</table>\n",
       "<p>999 rows × 3 columns</p>\n",
       "</div>"
      ],
      "text/plain": [
       "                datetime  sample_id     state\n",
       "0    03-01-2020 13:58:57         21  Sleeping\n",
       "1    04-01-2020 17:35:28        218  Sleeping\n",
       "2    04-01-2020 23:42:40        285  Sleeping\n",
       "3    05-01-2020 20:33:08        251  Sleeping\n",
       "4    06-01-2020 22:45:55        215  Sleeping\n",
       "..                   ...        ...       ...\n",
       "994  31-12-2021 21:28:33        120    Travel\n",
       "995  31-12-2021 21:29:09        120  Sleeping\n",
       "996  31-12-2021 22:04:39        198  Sleeping\n",
       "997  31-12-2021 22:39:31         20      Work\n",
       "998  31-12-2021 23:50:11        107  Sleeping\n",
       "\n",
       "[999 rows x 3 columns]"
      ]
     },
     "execution_count": 3,
     "metadata": {},
     "output_type": "execute_result"
    }
   ],
   "source": [
    "data"
   ]
  },
  {
   "cell_type": "code",
   "execution_count": 4,
   "id": "1d98d88e",
   "metadata": {},
   "outputs": [
    {
     "name": "stderr",
     "output_type": "stream",
     "text": [
      "[d3blocks] >INFO> Cleaning edge_properties and config parameters..\n",
      "[d3blocks] >INFO> Cleaning edge_properties and config parameters..\n",
      "[d3blocks] >INFO> Initializing [Movingbubbles]\n",
      "[d3blocks] >INFO> filepath is set to [/var/folders/nj/gzfmj9yx4895rd_dpy_f43cm0000gn/T/d3blocks/movingbubbles.html]\n",
      "[d3blocks] >INFO> Convert to DataFrame.\n",
      "[d3blocks] >INFO> Node properties are set.\n",
      "[d3blocks] >INFO> Standardizing input dataframe using method: [samplewise].\n",
      "[d3blocks] >INFO> Set datetime format to [%d-%m-%Y %H:%M:%S]\n",
      "[d3blocks] >INFO> Standardize method: [samplewise]\n",
      "100%|███████████████████████████████████████| 209/209 [00:00<00:00, 1747.17it/s]\n",
      "[d3blocks] >INFO> Set all nodes to size: 5\n",
      "[clustimage] >WARNING> Colormap [Set1] can not create [209] unique colors! Available unique colors: [9].\n",
      "[d3blocks] >WARNING> Colormap [Set1] can not create [209] unique colors! Available unique colors: [9].\n",
      "[d3blocks] >INFO> Edge properties are set.\n",
      "[d3blocks] >INFO> File already exists and will be overwritten: [/var/folders/nj/gzfmj9yx4895rd_dpy_f43cm0000gn/T/d3blocks/movingbubbles.html]\n",
      "[d3blocks] >INFO> File not found: [file:////var/folders/nj/gzfmj9yx4895rd_dpy_f43cm0000gn/T/d3blocks/movingbubbles.html]\n",
      "[d3blocks] >INFO> Open browser: file:////var/folders/nj/gzfmj9yx4895rd_dpy_f43cm0000gn/T/d3blocks/movingbubbles.html\n"
     ]
    }
   ],
   "source": [
    "# Load d3blocks\n",
    "d3 = D3Blocks()\n",
    "\n",
    "\n",
    "# Generate moving bubbles visualization\n",
    "d3.movingbubbles(\n",
    "    data, \n",
    "    speed={\"slow\": 1000, \"medium\": 200, \"fast\": 10}, \n",
    "    filepath='movingbubbles.html')"
   ]
  },
  {
   "cell_type": "code",
   "execution_count": 5,
   "id": "12789f7f",
   "metadata": {},
   "outputs": [
    {
     "name": "stdout",
     "output_type": "stream",
     "text": [
      "    datetime  sample_id           state\n",
      "0 2023-04-14          0  Out of the Gym\n",
      "1 2023-04-14          1  Out of the Gym\n",
      "2 2023-04-14          2  Out of the Gym\n",
      "3 2023-04-14          3  Out of the Gym\n",
      "4 2023-04-14          4  Out of the Gym\n"
     ]
    }
   ],
   "source": [
    "import pandas as pd\n",
    "\n",
    "# Sample DataFrame creation\n",
    "# Assuming df has columns: 'datetime', 'sample_id', 'state'\n",
    "# Here's a quick example structure (you would replace this with your actual DataFrame)\n",
    "data = {\n",
    "    'datetime': pd.date_range(\"2023-04-14 00:00\", periods=24, freq='H').repeat(50),\n",
    "    'sample_id': list(range(50)) * 24,\n",
    "    'state': np.random.choice(['Cardio', 'Strength', 'Swim', 'Class', 'Sauna', 'Functional'], size=1200)\n",
    "}\n",
    "df = pd.DataFrame(data)\n",
    "\n",
    "\n",
    "# Implementing the closing time rule: gym is closed from 9 PM to 6 AM\n",
    "df['hour'] = df['datetime'].dt.hour\n",
    "df.loc[(df['hour'] >= 21) | (df['hour'] < 6), 'state'] = 'Out of the Gym'\n",
    "\n",
    "# Remove the temporary 'hour' column\n",
    "df.drop('hour', axis=1, inplace=True)\n",
    "\n",
    "\n",
    "# Display the head of the DataFrame to verify changes\n",
    "print(df.head())"
   ]
  },
  {
   "cell_type": "code",
   "execution_count": 6,
   "id": "0b813b01",
   "metadata": {},
   "outputs": [
    {
     "name": "stderr",
     "output_type": "stream",
     "text": [
      "[d3blocks] >INFO> Cleaning edge_properties and config parameters..\n",
      "[d3blocks] >INFO> Cleaning edge_properties and config parameters..\n",
      "[d3blocks] >INFO> Initializing [Movingbubbles]\n",
      "[d3blocks] >INFO> filepath is set to [/var/folders/nj/gzfmj9yx4895rd_dpy_f43cm0000gn/T/d3blocks/movingbubbles.html]\n",
      "[d3blocks] >INFO> Convert to DataFrame.\n",
      "[d3blocks] >INFO> Node properties are set.\n",
      "[d3blocks] >INFO> Standardizing input dataframe using method: [samplewise].\n",
      "[d3blocks] >INFO> Standardize method: [samplewise]\n",
      "100%|█████████████████████████████████████████| 50/50 [00:00<00:00, 1325.46it/s]\n",
      "[d3blocks] >INFO> Set all nodes to size: 5\n",
      "[clustimage] >WARNING> Colormap [Set1] can not create [50] unique colors! Available unique colors: [9].\n",
      "[d3blocks] >WARNING> Colormap [Set1] can not create [50] unique colors! Available unique colors: [9].\n",
      "[d3blocks] >INFO> Edge properties are set.\n",
      "[d3blocks] >INFO> File already exists and will be overwritten: [/var/folders/nj/gzfmj9yx4895rd_dpy_f43cm0000gn/T/d3blocks/movingbubbles.html]\n",
      "[d3blocks] >INFO> File not found: [file:////var/folders/nj/gzfmj9yx4895rd_dpy_f43cm0000gn/T/d3blocks/movingbubbles.html]\n",
      "[d3blocks] >INFO> Open browser: file:////var/folders/nj/gzfmj9yx4895rd_dpy_f43cm0000gn/T/d3blocks/movingbubbles.html\n"
     ]
    }
   ],
   "source": [
    "# Load d3blocks\n",
    "d3 = D3Blocks()\n",
    "\n",
    "\n",
    "# Generate moving bubbles visualization\n",
    "d3.movingbubbles(\n",
    "    df, \n",
    "    speed={\"slow\": 1000, \"medium\": 200, \"fast\": 10}, \n",
    "    filepath='movingbubbles.html')"
   ]
  },
  {
   "cell_type": "code",
   "execution_count": null,
   "id": "e9286ec7",
   "metadata": {},
   "outputs": [],
   "source": []
  }
 ],
 "metadata": {
  "kernelspec": {
   "display_name": "Python 3 (ipykernel)",
   "language": "python",
   "name": "python3"
  },
  "language_info": {
   "codemirror_mode": {
    "name": "ipython",
    "version": 3
   },
   "file_extension": ".py",
   "mimetype": "text/x-python",
   "name": "python",
   "nbconvert_exporter": "python",
   "pygments_lexer": "ipython3",
   "version": "3.11.7"
  }
 },
 "nbformat": 4,
 "nbformat_minor": 5
}
